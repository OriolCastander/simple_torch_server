{
 "cells": [
  {
   "cell_type": "code",
   "execution_count": 1,
   "metadata": {},
   "outputs": [],
   "source": [
    "import numpy as np\n",
    "import torch\n",
    "import joblib\n",
    "\n",
    "from model.normalizer import PolynomicNormalizer\n",
    "from model.model import Model\n",
    "\n",
    "from typing import Union"
   ]
  },
  {
   "cell_type": "code",
   "execution_count": 2,
   "metadata": {},
   "outputs": [],
   "source": [
    "### DATA\n",
    "\n",
    "import pandas as pd\n",
    "\n",
    "df = pd.read_csv(\"mockData/data.csv\")"
   ]
  },
  {
   "cell_type": "code",
   "execution_count": 3,
   "metadata": {},
   "outputs": [],
   "source": [
    "## GET THE DAYS SINCE JAN 1\n",
    "CUMULATIVE_DAYS_PER_MONTH = [0, 31, 60, 91, 121, 152, 182, 213, 244, 274, 305, 335]\n",
    "\n",
    "df[\"since\"] = df.apply(lambda row: (CUMULATIVE_DAYS_PER_MONTH[int(row[\"month\"]) - 1] + row[\"day\"]), axis=1)\n",
    "dataset = df[[\"since\", \"time\", \"temp\"]].to_numpy()\n",
    "np.random.shuffle(dataset)"
   ]
  },
  {
   "cell_type": "code",
   "execution_count": 4,
   "metadata": {},
   "outputs": [
    {
     "data": {
      "text/plain": [
       "['mockData/normalizer.pkl']"
      ]
     },
     "execution_count": 4,
     "metadata": {},
     "output_type": "execute_result"
    }
   ],
   "source": [
    "normalizer, normalizedDataset = PolynomicNormalizer.spawnBasicFromDataset(dataset)\n",
    "\n",
    "joblib.dump(normalizer, \"mockData/normalizer.pkl\")"
   ]
  },
  {
   "cell_type": "code",
   "execution_count": 5,
   "metadata": {},
   "outputs": [],
   "source": [
    "train_dataset, eval_dataset = np.split(normalizedDataset, [int(len(normalizedDataset) * .9)])\n",
    "\n",
    "model = Model(2, [10,10, 10], 1)\n",
    "\n",
    "(training_losses, eval_losses) = model.train(1_000, torch.tensor(train_dataset, dtype=torch.float), torch.tensor(eval_dataset, dtype=torch.float))"
   ]
  },
  {
   "cell_type": "code",
   "execution_count": 6,
   "metadata": {},
   "outputs": [],
   "source": [
    "model.save(\"model/model.pt\")"
   ]
  }
 ],
 "metadata": {
  "kernelspec": {
   "display_name": "Python 3",
   "language": "python",
   "name": "python3"
  },
  "language_info": {
   "codemirror_mode": {
    "name": "ipython",
    "version": 3
   },
   "file_extension": ".py",
   "mimetype": "text/x-python",
   "name": "python",
   "nbconvert_exporter": "python",
   "pygments_lexer": "ipython3",
   "version": "3.11.4"
  },
  "orig_nbformat": 4
 },
 "nbformat": 4,
 "nbformat_minor": 2
}
